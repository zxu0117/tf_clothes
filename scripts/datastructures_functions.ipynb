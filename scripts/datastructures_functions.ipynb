{
 "cells": [
  {
   "cell_type": "code",
   "execution_count": 1,
   "id": "30338331",
   "metadata": {},
   "outputs": [],
   "source": [
    "import json\n",
    "import pandas as pd"
   ]
  },
  {
   "cell_type": "code",
   "execution_count": 2,
   "id": "682b89a0",
   "metadata": {},
   "outputs": [
    {
     "name": "stdout",
     "output_type": "stream",
     "text": [
      "[1]\n",
      "[1, ['poop', 'peep']]\n",
      "[1, ['poop', 'peep'], 'word', 'cat']\n",
      "peep\n",
      "cat\n",
      "4\n"
     ]
    }
   ],
   "source": [
    "#data types\n",
    "#list\n",
    "my_list = []\n",
    "word = [\"poop\", \"peep\"]\n",
    "my_list.append(1)\n",
    "print(my_list)\n",
    "\n",
    "my_list.append(word)\n",
    "print(my_list)\n",
    "\n",
    "my_list.extend([\"word\", \"cat\"])\n",
    "print(my_list)\n",
    "\n",
    "print(my_list [1][1])\n",
    "print(my_list [3])\n",
    "\n",
    "print(len(my_list))"
   ]
  },
  {
   "cell_type": "code",
   "execution_count": 3,
   "id": "0da09641",
   "metadata": {},
   "outputs": [
    {
     "name": "stdout",
     "output_type": "stream",
     "text": [
      "{'supplies': [], 'organic': {}}\n",
      "{'supplies': ['bin', 'gloves', 'ethanol', ['filter', 'tape']], 'organic': {}}\n",
      "{'supplies': ['bin', 'gloves', 'ethanol', ['filter', 'tape']], 'organic': {'substrate': ['millet', 'hardwood'], 'spores': ['oyster', 'chicken']}}\n",
      "dict_keys(['supplies', 'organic'])\n",
      "{\"supplies\": [\"bin\", \"gloves\", \"ethanol\", [\"filter\", \"tape\"]], \"organic\": {\"substrate\": [\"millet\", \"hardwood\"], \"spores\": [\"oyster\", \"chicken\"]}}\n",
      "oyster\n",
      "gloves\n"
     ]
    }
   ],
   "source": [
    "#dictionary/json\n",
    "my_json = {}\n",
    "\n",
    "my_json[\"supplies\"] = []\n",
    "my_json[\"organic\"] ={}\n",
    "print(my_json)\n",
    "\n",
    "my_json[\"supplies\"].extend([\"bin\", \"gloves\", \"ethanol\"])\n",
    "my_json[\"supplies\"].append([\"filter\", \"tape\"])\n",
    "print(my_json)\n",
    "\n",
    "my_json[\"organic\"][\"substrate\"] = [\"millet\", \"hardwood\"]\n",
    "my_json[\"organic\"][\"spores\"] = [\"oyster\", \"chicken\"]\n",
    "print(my_json)\n",
    "\n",
    "print(my_json.keys())\n",
    "print(json.dumps(my_json))\n",
    "print(my_json[\"organic\"][\"spores\"][0])\n",
    "print(my_json[\"supplies\"][1])"
   ]
  },
  {
   "cell_type": "code",
   "execution_count": 4,
   "id": "aa1a13c3",
   "metadata": {},
   "outputs": [
    {
     "data": {
      "text/html": [
       "<div>\n",
       "<style scoped>\n",
       "    .dataframe tbody tr th:only-of-type {\n",
       "        vertical-align: middle;\n",
       "    }\n",
       "\n",
       "    .dataframe tbody tr th {\n",
       "        vertical-align: top;\n",
       "    }\n",
       "\n",
       "    .dataframe thead th {\n",
       "        text-align: right;\n",
       "    }\n",
       "</style>\n",
       "<table border=\"1\" class=\"dataframe\">\n",
       "  <thead>\n",
       "    <tr style=\"text-align: right;\">\n",
       "      <th></th>\n",
       "      <th>Name</th>\n",
       "      <th>Age</th>\n",
       "    </tr>\n",
       "  </thead>\n",
       "  <tbody>\n",
       "    <tr>\n",
       "      <th>0</th>\n",
       "      <td>tom</td>\n",
       "      <td>25</td>\n",
       "    </tr>\n",
       "    <tr>\n",
       "      <th>1</th>\n",
       "      <td>krish</td>\n",
       "      <td>30</td>\n",
       "    </tr>\n",
       "    <tr>\n",
       "      <th>2</th>\n",
       "      <td>nick</td>\n",
       "      <td>26</td>\n",
       "    </tr>\n",
       "    <tr>\n",
       "      <th>3</th>\n",
       "      <td>juli</td>\n",
       "      <td>22</td>\n",
       "    </tr>\n",
       "  </tbody>\n",
       "</table>\n",
       "</div>"
      ],
      "text/plain": [
       "    Name  Age\n",
       "0    tom   25\n",
       "1  krish   30\n",
       "2   nick   26\n",
       "3   juli   22"
      ]
     },
     "execution_count": 4,
     "metadata": {},
     "output_type": "execute_result"
    }
   ],
   "source": [
    "#tables\n",
    "\n",
    "# List1\n",
    "Name = ['tom', 'krish', 'nick', 'juli']\n",
    " \n",
    "# List2\n",
    "Age = [25, 30, 26, 22]\n",
    "\n",
    "# get the list of tuples from two lists.\n",
    "# and merge them by using zip().\n",
    "list_of_tuples = list(zip(Name, Age))\n",
    " \n",
    "# Assign data to tuples.\n",
    "list_of_tuples\n",
    "\n",
    "# Converting lists of tuples into\n",
    "# pandas Dataframe.\n",
    "df = pd.DataFrame(list_of_tuples, columns = ['Name', 'Age'])\n",
    "  \n",
    "# Print data.\n",
    "df"
   ]
  },
  {
   "cell_type": "code",
   "execution_count": 5,
   "id": "f96a89df",
   "metadata": {},
   "outputs": [
    {
     "name": "stdout",
     "output_type": "stream",
     "text": [
      "dict_keys(['supplies', 'organic'])\n"
     ]
    }
   ],
   "source": [
    "#for loop\n",
    "\n",
    "print(my_json.keys())"
   ]
  },
  {
   "cell_type": "code",
   "execution_count": 6,
   "id": "2303ff68",
   "metadata": {},
   "outputs": [
    {
     "name": "stdout",
     "output_type": "stream",
     "text": [
      "1\n",
      "['poop', 'peep']\n",
      "word\n",
      "cat\n"
     ]
    }
   ],
   "source": [
    "for x in my_list:\n",
    "    print(x)"
   ]
  },
  {
   "cell_type": "code",
   "execution_count": 7,
   "id": "0939aecf",
   "metadata": {},
   "outputs": [
    {
     "name": "stdout",
     "output_type": "stream",
     "text": [
      "1\n",
      "['bin', 'gloves', 'ethanol', ['filter', 'tape']]\n",
      "2\n",
      "{'substrate': ['millet', 'hardwood'], 'spores': ['oyster', 'chicken']}\n"
     ]
    }
   ],
   "source": [
    "loop_number = 1\n",
    "\n",
    "for key in my_json.keys():\n",
    "    print(loop_number)\n",
    "    print(my_json[key])\n",
    "    loop_number += 1"
   ]
  },
  {
   "cell_type": "code",
   "execution_count": 8,
   "id": "74c47eaf",
   "metadata": {},
   "outputs": [
    {
     "name": "stdout",
     "output_type": "stream",
     "text": [
      "0\n",
      "['bin', 'gloves', 'ethanol', ['filter', 'tape']]\n",
      "1\n",
      "{'substrate': ['millet', 'hardwood'], 'spores': ['oyster', 'chicken']}\n"
     ]
    }
   ],
   "source": [
    "for loop_number, key in enumerate(my_json. keys()):\n",
    "    \n",
    "    print(str(loop_number))\n",
    "    print(my_json[key])"
   ]
  },
  {
   "cell_type": "code",
   "execution_count": 9,
   "id": "e4cd5de4",
   "metadata": {},
   "outputs": [
    {
     "name": "stdout",
     "output_type": "stream",
     "text": [
      "['fruit_apple', 'fruit_banana', 'fruit_cherry', 'fruit_kiwi', 'fruit_mango']\n"
     ]
    }
   ],
   "source": [
    "fruits = [\"apple\", \"banana\", \"cherry\", \"kiwi\", \"mango\"]\n",
    "newlist = []\n",
    "\n",
    "for x in fruits:\n",
    "    newlist.append(\"fruit_\" + x)\n",
    "\n",
    "print(newlist)\n"
   ]
  },
  {
   "cell_type": "code",
   "execution_count": 10,
   "id": "f64ea444",
   "metadata": {},
   "outputs": [
    {
     "name": "stdout",
     "output_type": "stream",
     "text": [
      "['fruit_apple', 'fruit_banana', 'fruit_cherry', 'fruit_kiwi', 'fruit_mango']\n"
     ]
    }
   ],
   "source": [
    "fruits = [\"apple\", \"banana\", \"cherry\", \"kiwi\", \"mango\"]\n",
    "newlist = [\"fruit_\" + x for x in fruits]\n",
    "\n",
    "print(newlist)"
   ]
  },
  {
   "cell_type": "code",
   "execution_count": 19,
   "id": "a9f237a9",
   "metadata": {},
   "outputs": [],
   "source": [
    "def fruitadd (inputlist):\n",
    "    newlist = [\"fruit_\" + str(x) for x in inputlist]\n",
    "    return newlist"
   ]
  },
  {
   "cell_type": "code",
   "execution_count": 20,
   "id": "ebbc7c40",
   "metadata": {},
   "outputs": [
    {
     "data": {
      "text/plain": [
       "['fruit_apple', 'fruit_banana', 'fruit_cherry', 'fruit_kiwi', 'fruit_mango']"
      ]
     },
     "execution_count": 20,
     "metadata": {},
     "output_type": "execute_result"
    }
   ],
   "source": [
    "fruitadd(fruits)"
   ]
  },
  {
   "cell_type": "code",
   "execution_count": 21,
   "id": "51bbca31",
   "metadata": {},
   "outputs": [
    {
     "data": {
      "text/plain": [
       "['fruit_1', \"fruit_['poop', 'peep']\", 'fruit_word', 'fruit_cat']"
      ]
     },
     "execution_count": 21,
     "metadata": {},
     "output_type": "execute_result"
    }
   ],
   "source": [
    "fruitadd(my_list)"
   ]
  },
  {
   "cell_type": "code",
   "execution_count": null,
   "id": "1fa55b30",
   "metadata": {},
   "outputs": [],
   "source": []
  }
 ],
 "metadata": {
  "kernelspec": {
   "display_name": "vittf2.9_3.9plot",
   "language": "python",
   "name": "vittf2.9_3.9plot"
  },
  "language_info": {
   "codemirror_mode": {
    "name": "ipython",
    "version": 3
   },
   "file_extension": ".py",
   "mimetype": "text/x-python",
   "name": "python",
   "nbconvert_exporter": "python",
   "pygments_lexer": "ipython3",
   "version": "3.9.16"
  }
 },
 "nbformat": 4,
 "nbformat_minor": 5
}
